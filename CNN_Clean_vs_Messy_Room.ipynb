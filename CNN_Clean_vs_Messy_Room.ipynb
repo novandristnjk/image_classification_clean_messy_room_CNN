{
  "nbformat": 4,
  "nbformat_minor": 0,
  "metadata": {
    "colab": {
      "provenance": []
    },
    "kernelspec": {
      "name": "python3",
      "display_name": "Python 3"
    },
    "accelerator": "GPU"
  },
  "cells": [
    {
      "cell_type": "code",
      "metadata": {
        "id": "AATzcBWpGuyG",
        "colab": {
          "base_uri": "https://localhost:8080/"
        },
        "outputId": "8d70a62d-e86d-4635-86ca-2d1177ccb1f2"
      },
      "source": [
        "import tensorflow as tf\n",
        "print(tf.__version__)"
      ],
      "execution_count": null,
      "outputs": [
        {
          "output_type": "stream",
          "name": "stdout",
          "text": [
            "2.9.2\n"
          ]
        }
      ]
    },
    {
      "cell_type": "code",
      "metadata": {
        "id": "DRSrhuatHGi-",
        "colab": {
          "base_uri": "https://localhost:8080/"
        },
        "outputId": "cef4f4cf-0f50-42e7-c026-3ab7c6f79b5e"
      },
      "source": [
        "!wget --no-check-certificate \\\n",
        "  https://github.com/dicodingacademy/assets/raw/main/ml_pemula_academy/messy-vs-clean-room.zip \\\n",
        "  -O /tmp/messy_vs_clean_room.zip"
      ],
      "execution_count": null,
      "outputs": [
        {
          "output_type": "stream",
          "name": "stdout",
          "text": [
            "--2022-10-14 10:58:24--  https://github.com/dicodingacademy/assets/raw/main/ml_pemula_academy/messy-vs-clean-room.zip\n",
            "Resolving github.com (github.com)... 192.30.255.112\n",
            "Connecting to github.com (github.com)|192.30.255.112|:443... connected.\n",
            "HTTP request sent, awaiting response... 302 Found\n",
            "Location: https://raw.githubusercontent.com/dicodingacademy/assets/main/ml_pemula_academy/messy-vs-clean-room.zip [following]\n",
            "--2022-10-14 10:58:24--  https://raw.githubusercontent.com/dicodingacademy/assets/main/ml_pemula_academy/messy-vs-clean-room.zip\n",
            "Resolving raw.githubusercontent.com (raw.githubusercontent.com)... 185.199.108.133, 185.199.109.133, 185.199.110.133, ...\n",
            "Connecting to raw.githubusercontent.com (raw.githubusercontent.com)|185.199.108.133|:443... connected.\n",
            "HTTP request sent, awaiting response... 200 OK\n",
            "Length: 70392746 (67M) [application/zip]\n",
            "Saving to: ‘/tmp/messy_vs_clean_room.zip’\n",
            "\n",
            "/tmp/messy_vs_clean 100%[===================>]  67.13M   208MB/s    in 0.3s    \n",
            "\n",
            "2022-10-14 10:58:27 (208 MB/s) - ‘/tmp/messy_vs_clean_room.zip’ saved [70392746/70392746]\n",
            "\n"
          ]
        }
      ]
    },
    {
      "cell_type": "code",
      "metadata": {
        "id": "RTBu2oJfHIbH"
      },
      "source": [
        "# melakukan ekstraksi pada file zip\n",
        "import zipfile,os\n",
        "local_zip = '/tmp/messy_vs_clean_room.zip'\n",
        "zip_ref = zipfile.ZipFile(local_zip, 'r')\n",
        "zip_ref.extractall('/tmp')\n",
        "zip_ref.close()\n",
        "\n",
        "base_dir = '/tmp/images'\n",
        "train_dir = os.path.join(base_dir, 'train')\n",
        "validation_dir = os.path.join(base_dir, 'val')"
      ],
      "execution_count": null,
      "outputs": []
    },
    {
      "cell_type": "code",
      "metadata": {
        "id": "7XudL3NRHKLl",
        "colab": {
          "base_uri": "https://localhost:8080/"
        },
        "outputId": "cff88640-e8f4-4a2a-af90-96017bb1c2b9"
      },
      "source": [
        "os.listdir('/tmp/images/train')"
      ],
      "execution_count": null,
      "outputs": [
        {
          "output_type": "execute_result",
          "data": {
            "text/plain": [
              "['clean', 'messy']"
            ]
          },
          "metadata": {},
          "execution_count": 4
        }
      ]
    },
    {
      "cell_type": "code",
      "metadata": {
        "id": "dKIS8oM6HMwv",
        "colab": {
          "base_uri": "https://localhost:8080/"
        },
        "outputId": "b51258df-d15e-453f-c7b7-a7804cf2c11a"
      },
      "source": [
        "os.listdir('/tmp/images/val')"
      ],
      "execution_count": null,
      "outputs": [
        {
          "output_type": "execute_result",
          "data": {
            "text/plain": [
              "['clean', 'messy']"
            ]
          },
          "metadata": {},
          "execution_count": 5
        }
      ]
    },
    {
      "cell_type": "code",
      "metadata": {
        "id": "CIbS5WB-HOhC"
      },
      "source": [
        "# membuat direktori ruangan rapi pada direktori data training\n",
        "train_clean_dir = os.path.join(train_dir, 'clean')\n",
        "\n",
        "# membuat direktori ruangan berantakan pada direktori data training\n",
        "train_messy_dir = os.path.join(train_dir, 'messy')\n",
        "\n",
        "# membuat direktori ruangan rapi pada direktori data validasi\n",
        "validation_clean_dir = os.path.join(validation_dir, 'clean')\n",
        "\n",
        "# membuat direktori ruangan berantakan pada direktori data validasi\n",
        "validation_messy_dir = os.path.join(validation_dir, 'messy')"
      ],
      "execution_count": null,
      "outputs": []
    },
    {
      "cell_type": "code",
      "metadata": {
        "id": "6-lp90PCHQRZ"
      },
      "source": [
        "from tensorflow.keras.preprocessing.image import ImageDataGenerator\n",
        "train_datagen = ImageDataGenerator(\n",
        "                    rescale=1./255,\n",
        "                    rotation_range=20,\n",
        "                    horizontal_flip=True,\n",
        "                    shear_range = 0.2,\n",
        "                    fill_mode = 'nearest')\n",
        "\n",
        "validation_datagen = ImageDataGenerator(\n",
        "                    rescale=1./255)"
      ],
      "execution_count": null,
      "outputs": []
    },
    {
      "cell_type": "code",
      "metadata": {
        "id": "5jZFBH10HSI_",
        "colab": {
          "base_uri": "https://localhost:8080/"
        },
        "outputId": "988b14d7-7f17-43fe-8689-a6aff0436e04"
      },
      "source": [
        "train_generator = train_datagen.flow_from_directory(\n",
        "        train_dir,  # direktori data latih\n",
        "        target_size=(150, 150),  # mengubah resolusi seluruh gambar menjadi 150x150 piksel\n",
        "        batch_size=4,\n",
        "        # karena ini merupakan masalah klasifikasi 2 kelas maka menggunakan class_mode = 'binary'\n",
        "        class_mode='binary')\n",
        "\n",
        "validation_generator = validation_datagen.flow_from_directory(\n",
        "        validation_dir, # direktori data validasi\n",
        "        target_size=(150, 150), # mengubah resolusi seluruh gambar menjadi 150x150 piksel\n",
        "        batch_size=4, \n",
        "        # karena ini merupakan masalah klasifikasi 2 kelas maka menggunakan class_mode = 'binary'\n",
        "        class_mode='binary')"
      ],
      "execution_count": null,
      "outputs": [
        {
          "output_type": "stream",
          "name": "stdout",
          "text": [
            "Found 192 images belonging to 2 classes.\n",
            "Found 20 images belonging to 2 classes.\n"
          ]
        }
      ]
    },
    {
      "cell_type": "code",
      "metadata": {
        "id": "tJ_KwTQJHT-U"
      },
      "source": [
        "model = tf.keras.models.Sequential([\n",
        "    tf.keras.layers.Conv2D(32, (3,3), activation='relu', input_shape=(150, 150, 3)),\n",
        "    tf.keras.layers.MaxPooling2D(2, 2),\n",
        "    tf.keras.layers.Conv2D(64, (3,3), activation='relu'),\n",
        "    tf.keras.layers.MaxPooling2D(2,2),\n",
        "    tf.keras.layers.Conv2D(128, (3,3), activation='relu'),\n",
        "    tf.keras.layers.MaxPooling2D(2,2),\n",
        "    tf.keras.layers.Conv2D(512, (3,3), activation='relu'),\n",
        "    tf.keras.layers.MaxPooling2D(2,2),\n",
        "    tf.keras.layers.Flatten(),\n",
        "    tf.keras.layers.Dense(512, activation='relu'),\n",
        "    tf.keras.layers.Dense(1, activation='sigmoid')\n",
        "])"
      ],
      "execution_count": null,
      "outputs": []
    },
    {
      "cell_type": "code",
      "metadata": {
        "colab": {
          "base_uri": "https://localhost:8080/"
        },
        "id": "sgB1dDJ1KypF",
        "outputId": "cbb7684d-b131-493c-fbea-6488ec0def09"
      },
      "source": [
        "model.summary()"
      ],
      "execution_count": null,
      "outputs": [
        {
          "output_type": "stream",
          "name": "stdout",
          "text": [
            "Model: \"sequential_1\"\n",
            "_________________________________________________________________\n",
            " Layer (type)                Output Shape              Param #   \n",
            "=================================================================\n",
            " conv2d_4 (Conv2D)           (None, 148, 148, 32)      896       \n",
            "                                                                 \n",
            " max_pooling2d_4 (MaxPooling  (None, 74, 74, 32)       0         \n",
            " 2D)                                                             \n",
            "                                                                 \n",
            " conv2d_5 (Conv2D)           (None, 72, 72, 64)        18496     \n",
            "                                                                 \n",
            " max_pooling2d_5 (MaxPooling  (None, 36, 36, 64)       0         \n",
            " 2D)                                                             \n",
            "                                                                 \n",
            " conv2d_6 (Conv2D)           (None, 34, 34, 128)       73856     \n",
            "                                                                 \n",
            " max_pooling2d_6 (MaxPooling  (None, 17, 17, 128)      0         \n",
            " 2D)                                                             \n",
            "                                                                 \n",
            " conv2d_7 (Conv2D)           (None, 15, 15, 512)       590336    \n",
            "                                                                 \n",
            " max_pooling2d_7 (MaxPooling  (None, 7, 7, 512)        0         \n",
            " 2D)                                                             \n",
            "                                                                 \n",
            " flatten_1 (Flatten)         (None, 25088)             0         \n",
            "                                                                 \n",
            " dense_2 (Dense)             (None, 512)               12845568  \n",
            "                                                                 \n",
            " dense_3 (Dense)             (None, 1)                 513       \n",
            "                                                                 \n",
            "=================================================================\n",
            "Total params: 13,529,665\n",
            "Trainable params: 13,529,665\n",
            "Non-trainable params: 0\n",
            "_________________________________________________________________\n"
          ]
        }
      ]
    },
    {
      "cell_type": "code",
      "metadata": {
        "id": "mbvLD0cVHXJ6"
      },
      "source": [
        "model.compile(loss='binary_crossentropy',\n",
        "              optimizer=tf.optimizers.Adam(),\n",
        "              metrics=['accuracy'])"
      ],
      "execution_count": null,
      "outputs": []
    },
    {
      "cell_type": "code",
      "metadata": {
        "id": "VVmUsHpzHX3w",
        "colab": {
          "base_uri": "https://localhost:8080/"
        },
        "outputId": "696c6187-5b75-4fca-c335-25e3156bad02"
      },
      "source": [
        "history = model.fit(\n",
        "      train_generator,\n",
        "      steps_per_epoch=40,  # berapa batch yang akan dieksekusi pada setiap epoch\n",
        "      epochs=40,\n",
        "      validation_data=validation_generator, # menampilkan akurasi pengujian data validasi\n",
        "      validation_steps=5,  # berapa batch yang akan dieksekusi pada setiap epoch\n",
        "      verbose=2)"
      ],
      "execution_count": null,
      "outputs": [
        {
          "output_type": "stream",
          "name": "stdout",
          "text": [
            "Epoch 1/40\n",
            "40/40 - 10s - loss: 0.7275 - accuracy: 0.5250 - val_loss: 0.6930 - val_accuracy: 0.5000 - 10s/epoch - 259ms/step\n",
            "Epoch 2/40\n",
            "40/40 - 1s - loss: 0.6949 - accuracy: 0.4812 - val_loss: 0.6931 - val_accuracy: 0.5000 - 1s/epoch - 35ms/step\n",
            "Epoch 3/40\n",
            "40/40 - 1s - loss: 0.6968 - accuracy: 0.5125 - val_loss: 0.6853 - val_accuracy: 0.5000 - 1s/epoch - 36ms/step\n",
            "Epoch 4/40\n",
            "40/40 - 1s - loss: 0.6791 - accuracy: 0.5813 - val_loss: 0.6451 - val_accuracy: 0.7500 - 1s/epoch - 36ms/step\n",
            "Epoch 5/40\n",
            "40/40 - 1s - loss: 0.6831 - accuracy: 0.5063 - val_loss: 0.6971 - val_accuracy: 0.5000 - 1s/epoch - 35ms/step\n",
            "Epoch 6/40\n",
            "40/40 - 1s - loss: 0.7080 - accuracy: 0.5063 - val_loss: 0.6929 - val_accuracy: 0.5000 - 1s/epoch - 35ms/step\n",
            "Epoch 7/40\n",
            "40/40 - 1s - loss: 0.6988 - accuracy: 0.5125 - val_loss: 0.6936 - val_accuracy: 0.5000 - 1s/epoch - 36ms/step\n",
            "Epoch 8/40\n",
            "40/40 - 1s - loss: 0.7093 - accuracy: 0.4750 - val_loss: 0.6922 - val_accuracy: 0.6500 - 1s/epoch - 35ms/step\n",
            "Epoch 9/40\n",
            "40/40 - 1s - loss: 0.6840 - accuracy: 0.5375 - val_loss: 0.6916 - val_accuracy: 0.5500 - 1s/epoch - 35ms/step\n",
            "Epoch 10/40\n",
            "40/40 - 1s - loss: 0.6763 - accuracy: 0.5625 - val_loss: 0.6282 - val_accuracy: 0.7500 - 1s/epoch - 35ms/step\n",
            "Epoch 11/40\n",
            "40/40 - 1s - loss: 0.6866 - accuracy: 0.6250 - val_loss: 0.7062 - val_accuracy: 0.5000 - 1s/epoch - 36ms/step\n",
            "Epoch 12/40\n",
            "40/40 - 1s - loss: 0.6969 - accuracy: 0.5250 - val_loss: 0.6952 - val_accuracy: 0.5000 - 1s/epoch - 35ms/step\n",
            "Epoch 13/40\n",
            "40/40 - 1s - loss: 0.6941 - accuracy: 0.5063 - val_loss: 0.6935 - val_accuracy: 0.4000 - 1s/epoch - 36ms/step\n",
            "Epoch 14/40\n",
            "40/40 - 1s - loss: 0.6946 - accuracy: 0.5125 - val_loss: 0.6934 - val_accuracy: 0.5000 - 1s/epoch - 35ms/step\n",
            "Epoch 15/40\n",
            "40/40 - 1s - loss: 0.6935 - accuracy: 0.5063 - val_loss: 0.6935 - val_accuracy: 0.5000 - 1s/epoch - 35ms/step\n",
            "Epoch 16/40\n",
            "40/40 - 1s - loss: 0.6925 - accuracy: 0.5250 - val_loss: 0.6938 - val_accuracy: 0.5000 - 1s/epoch - 36ms/step\n",
            "Epoch 17/40\n",
            "40/40 - 1s - loss: 0.6946 - accuracy: 0.4875 - val_loss: 0.6928 - val_accuracy: 0.5000 - 1s/epoch - 35ms/step\n",
            "Epoch 18/40\n",
            "40/40 - 1s - loss: 0.6940 - accuracy: 0.4688 - val_loss: 0.6930 - val_accuracy: 0.5000 - 1s/epoch - 35ms/step\n",
            "Epoch 19/40\n",
            "40/40 - 1s - loss: 0.6964 - accuracy: 0.5000 - val_loss: 0.6931 - val_accuracy: 0.5000 - 1s/epoch - 36ms/step\n",
            "Epoch 20/40\n",
            "40/40 - 1s - loss: 0.6932 - accuracy: 0.4437 - val_loss: 0.6932 - val_accuracy: 0.5000 - 1s/epoch - 36ms/step\n",
            "Epoch 21/40\n",
            "40/40 - 1s - loss: 0.6933 - accuracy: 0.5063 - val_loss: 0.6924 - val_accuracy: 0.4500 - 1s/epoch - 35ms/step\n",
            "Epoch 22/40\n",
            "40/40 - 1s - loss: 0.6922 - accuracy: 0.5625 - val_loss: 0.6907 - val_accuracy: 0.5500 - 1s/epoch - 36ms/step\n",
            "Epoch 23/40\n",
            "40/40 - 1s - loss: 0.6955 - accuracy: 0.5312 - val_loss: 0.6929 - val_accuracy: 0.5000 - 1s/epoch - 35ms/step\n",
            "Epoch 24/40\n",
            "40/40 - 1s - loss: 0.6931 - accuracy: 0.5375 - val_loss: 0.6866 - val_accuracy: 0.6500 - 1s/epoch - 37ms/step\n",
            "Epoch 25/40\n",
            "40/40 - 1s - loss: 0.6691 - accuracy: 0.6062 - val_loss: 0.6444 - val_accuracy: 0.6500 - 1s/epoch - 35ms/step\n",
            "Epoch 26/40\n",
            "40/40 - 1s - loss: 0.6855 - accuracy: 0.5437 - val_loss: 0.6871 - val_accuracy: 0.5000 - 1s/epoch - 36ms/step\n",
            "Epoch 27/40\n",
            "40/40 - 1s - loss: 0.6862 - accuracy: 0.5938 - val_loss: 0.6449 - val_accuracy: 0.8000 - 1s/epoch - 36ms/step\n",
            "Epoch 28/40\n",
            "40/40 - 1s - loss: 0.6580 - accuracy: 0.6438 - val_loss: 0.6943 - val_accuracy: 0.5000 - 1s/epoch - 35ms/step\n",
            "Epoch 29/40\n",
            "40/40 - 2s - loss: 0.6656 - accuracy: 0.5875 - val_loss: 0.5597 - val_accuracy: 0.8000 - 2s/epoch - 48ms/step\n",
            "Epoch 30/40\n",
            "40/40 - 1s - loss: 0.6166 - accuracy: 0.6625 - val_loss: 0.5035 - val_accuracy: 0.8000 - 1s/epoch - 36ms/step\n",
            "Epoch 31/40\n",
            "40/40 - 1s - loss: 0.5568 - accuracy: 0.7437 - val_loss: 0.6160 - val_accuracy: 0.7500 - 1s/epoch - 35ms/step\n",
            "Epoch 32/40\n",
            "40/40 - 1s - loss: 0.6092 - accuracy: 0.7312 - val_loss: 0.6344 - val_accuracy: 0.6000 - 1s/epoch - 36ms/step\n",
            "Epoch 33/40\n",
            "40/40 - 1s - loss: 0.5896 - accuracy: 0.6812 - val_loss: 0.5044 - val_accuracy: 0.7500 - 1s/epoch - 37ms/step\n",
            "Epoch 34/40\n",
            "40/40 - 1s - loss: 0.5939 - accuracy: 0.6938 - val_loss: 0.5745 - val_accuracy: 0.6500 - 1s/epoch - 35ms/step\n",
            "Epoch 35/40\n",
            "40/40 - 1s - loss: 0.5733 - accuracy: 0.7250 - val_loss: 0.4913 - val_accuracy: 0.7500 - 1s/epoch - 36ms/step\n",
            "Epoch 36/40\n",
            "40/40 - 1s - loss: 0.5213 - accuracy: 0.7563 - val_loss: 0.4563 - val_accuracy: 0.7500 - 1s/epoch - 36ms/step\n",
            "Epoch 37/40\n",
            "40/40 - 1s - loss: 0.5442 - accuracy: 0.6875 - val_loss: 0.4825 - val_accuracy: 0.8000 - 1s/epoch - 35ms/step\n",
            "Epoch 38/40\n",
            "40/40 - 1s - loss: 0.4825 - accuracy: 0.7937 - val_loss: 0.4592 - val_accuracy: 0.8000 - 1s/epoch - 35ms/step\n",
            "Epoch 39/40\n",
            "40/40 - 1s - loss: 0.5299 - accuracy: 0.7437 - val_loss: 0.4562 - val_accuracy: 0.7500 - 1s/epoch - 36ms/step\n",
            "Epoch 40/40\n",
            "40/40 - 1s - loss: 0.4854 - accuracy: 0.7563 - val_loss: 0.4463 - val_accuracy: 0.8000 - 1s/epoch - 36ms/step\n"
          ]
        }
      ]
    },
    {
      "cell_type": "code",
      "metadata": {
        "id": "GQOoO8GTHbOR",
        "colab": {
          "base_uri": "https://localhost:8080/",
          "height": 377
        },
        "outputId": "9d851683-5c47-44ee-e68c-2ddc3f7afda2"
      },
      "source": [
        "import numpy as np\n",
        "from google.colab import files\n",
        "from tensorflow.keras.preprocessing import image\n",
        "import matplotlib.pyplot as plt\n",
        "import matplotlib.image as mpimg\n",
        "import matplotlib.pyplot as plt\n",
        "import matplotlib.image as mpimg\n",
        "%matplotlib inline\n",
        "\n",
        "uploaded = files.upload()\n",
        "\n",
        "for fn in uploaded.keys():\n",
        " \n",
        "  # predicting images\n",
        "  path = fn\n",
        "  img = image.load_img(path, target_size=(150,150))\n",
        "\n",
        "  imgplot = plt.imshow(img)\n",
        "  x = image.img_to_array(img)\n",
        "  x = np.expand_dims(x, axis=0)\n",
        "  images = np.vstack([x])\n",
        "\n",
        "  classes = model.predict(images, batch_size=10)  \n",
        "  print(fn)\n",
        "  if classes==1:\n",
        "   print('messy')\n",
        "  else:\n",
        "   print('clean')"
      ],
      "execution_count": null,
      "outputs": [
        {
          "output_type": "display_data",
          "data": {
            "text/plain": [
              "<IPython.core.display.HTML object>"
            ],
            "text/html": [
              "\n",
              "     <input type=\"file\" id=\"files-6240f34f-40d4-4708-a116-07f1070a12b5\" name=\"files[]\" multiple disabled\n",
              "        style=\"border:none\" />\n",
              "     <output id=\"result-6240f34f-40d4-4708-a116-07f1070a12b5\">\n",
              "      Upload widget is only available when the cell has been executed in the\n",
              "      current browser session. Please rerun this cell to enable.\n",
              "      </output>\n",
              "      <script>// Copyright 2017 Google LLC\n",
              "//\n",
              "// Licensed under the Apache License, Version 2.0 (the \"License\");\n",
              "// you may not use this file except in compliance with the License.\n",
              "// You may obtain a copy of the License at\n",
              "//\n",
              "//      http://www.apache.org/licenses/LICENSE-2.0\n",
              "//\n",
              "// Unless required by applicable law or agreed to in writing, software\n",
              "// distributed under the License is distributed on an \"AS IS\" BASIS,\n",
              "// WITHOUT WARRANTIES OR CONDITIONS OF ANY KIND, either express or implied.\n",
              "// See the License for the specific language governing permissions and\n",
              "// limitations under the License.\n",
              "\n",
              "/**\n",
              " * @fileoverview Helpers for google.colab Python module.\n",
              " */\n",
              "(function(scope) {\n",
              "function span(text, styleAttributes = {}) {\n",
              "  const element = document.createElement('span');\n",
              "  element.textContent = text;\n",
              "  for (const key of Object.keys(styleAttributes)) {\n",
              "    element.style[key] = styleAttributes[key];\n",
              "  }\n",
              "  return element;\n",
              "}\n",
              "\n",
              "// Max number of bytes which will be uploaded at a time.\n",
              "const MAX_PAYLOAD_SIZE = 100 * 1024;\n",
              "\n",
              "function _uploadFiles(inputId, outputId) {\n",
              "  const steps = uploadFilesStep(inputId, outputId);\n",
              "  const outputElement = document.getElementById(outputId);\n",
              "  // Cache steps on the outputElement to make it available for the next call\n",
              "  // to uploadFilesContinue from Python.\n",
              "  outputElement.steps = steps;\n",
              "\n",
              "  return _uploadFilesContinue(outputId);\n",
              "}\n",
              "\n",
              "// This is roughly an async generator (not supported in the browser yet),\n",
              "// where there are multiple asynchronous steps and the Python side is going\n",
              "// to poll for completion of each step.\n",
              "// This uses a Promise to block the python side on completion of each step,\n",
              "// then passes the result of the previous step as the input to the next step.\n",
              "function _uploadFilesContinue(outputId) {\n",
              "  const outputElement = document.getElementById(outputId);\n",
              "  const steps = outputElement.steps;\n",
              "\n",
              "  const next = steps.next(outputElement.lastPromiseValue);\n",
              "  return Promise.resolve(next.value.promise).then((value) => {\n",
              "    // Cache the last promise value to make it available to the next\n",
              "    // step of the generator.\n",
              "    outputElement.lastPromiseValue = value;\n",
              "    return next.value.response;\n",
              "  });\n",
              "}\n",
              "\n",
              "/**\n",
              " * Generator function which is called between each async step of the upload\n",
              " * process.\n",
              " * @param {string} inputId Element ID of the input file picker element.\n",
              " * @param {string} outputId Element ID of the output display.\n",
              " * @return {!Iterable<!Object>} Iterable of next steps.\n",
              " */\n",
              "function* uploadFilesStep(inputId, outputId) {\n",
              "  const inputElement = document.getElementById(inputId);\n",
              "  inputElement.disabled = false;\n",
              "\n",
              "  const outputElement = document.getElementById(outputId);\n",
              "  outputElement.innerHTML = '';\n",
              "\n",
              "  const pickedPromise = new Promise((resolve) => {\n",
              "    inputElement.addEventListener('change', (e) => {\n",
              "      resolve(e.target.files);\n",
              "    });\n",
              "  });\n",
              "\n",
              "  const cancel = document.createElement('button');\n",
              "  inputElement.parentElement.appendChild(cancel);\n",
              "  cancel.textContent = 'Cancel upload';\n",
              "  const cancelPromise = new Promise((resolve) => {\n",
              "    cancel.onclick = () => {\n",
              "      resolve(null);\n",
              "    };\n",
              "  });\n",
              "\n",
              "  // Wait for the user to pick the files.\n",
              "  const files = yield {\n",
              "    promise: Promise.race([pickedPromise, cancelPromise]),\n",
              "    response: {\n",
              "      action: 'starting',\n",
              "    }\n",
              "  };\n",
              "\n",
              "  cancel.remove();\n",
              "\n",
              "  // Disable the input element since further picks are not allowed.\n",
              "  inputElement.disabled = true;\n",
              "\n",
              "  if (!files) {\n",
              "    return {\n",
              "      response: {\n",
              "        action: 'complete',\n",
              "      }\n",
              "    };\n",
              "  }\n",
              "\n",
              "  for (const file of files) {\n",
              "    const li = document.createElement('li');\n",
              "    li.append(span(file.name, {fontWeight: 'bold'}));\n",
              "    li.append(span(\n",
              "        `(${file.type || 'n/a'}) - ${file.size} bytes, ` +\n",
              "        `last modified: ${\n",
              "            file.lastModifiedDate ? file.lastModifiedDate.toLocaleDateString() :\n",
              "                                    'n/a'} - `));\n",
              "    const percent = span('0% done');\n",
              "    li.appendChild(percent);\n",
              "\n",
              "    outputElement.appendChild(li);\n",
              "\n",
              "    const fileDataPromise = new Promise((resolve) => {\n",
              "      const reader = new FileReader();\n",
              "      reader.onload = (e) => {\n",
              "        resolve(e.target.result);\n",
              "      };\n",
              "      reader.readAsArrayBuffer(file);\n",
              "    });\n",
              "    // Wait for the data to be ready.\n",
              "    let fileData = yield {\n",
              "      promise: fileDataPromise,\n",
              "      response: {\n",
              "        action: 'continue',\n",
              "      }\n",
              "    };\n",
              "\n",
              "    // Use a chunked sending to avoid message size limits. See b/62115660.\n",
              "    let position = 0;\n",
              "    do {\n",
              "      const length = Math.min(fileData.byteLength - position, MAX_PAYLOAD_SIZE);\n",
              "      const chunk = new Uint8Array(fileData, position, length);\n",
              "      position += length;\n",
              "\n",
              "      const base64 = btoa(String.fromCharCode.apply(null, chunk));\n",
              "      yield {\n",
              "        response: {\n",
              "          action: 'append',\n",
              "          file: file.name,\n",
              "          data: base64,\n",
              "        },\n",
              "      };\n",
              "\n",
              "      let percentDone = fileData.byteLength === 0 ?\n",
              "          100 :\n",
              "          Math.round((position / fileData.byteLength) * 100);\n",
              "      percent.textContent = `${percentDone}% done`;\n",
              "\n",
              "    } while (position < fileData.byteLength);\n",
              "  }\n",
              "\n",
              "  // All done.\n",
              "  yield {\n",
              "    response: {\n",
              "      action: 'complete',\n",
              "    }\n",
              "  };\n",
              "}\n",
              "\n",
              "scope.google = scope.google || {};\n",
              "scope.google.colab = scope.google.colab || {};\n",
              "scope.google.colab._files = {\n",
              "  _uploadFiles,\n",
              "  _uploadFilesContinue,\n",
              "};\n",
              "})(self);\n",
              "</script> "
            ]
          },
          "metadata": {}
        },
        {
          "output_type": "stream",
          "name": "stdout",
          "text": [
            "Saving download.jpg to download.jpg\n",
            "1/1 [==============================] - 0s 16ms/step\n",
            "download.jpg\n",
            "clean\n"
          ]
        },
        {
          "output_type": "display_data",
          "data": {
            "text/plain": [
              "<Figure size 432x288 with 1 Axes>"
            ],
            "image/png": "[encoded data removed]"
          },
          "metadata": {
            "needs_background": "light"
          }
        }
      ]
    },
    {
      "cell_type": "code",
      "metadata": {
        "id": "BlFz4gT1aQfM",
        "colab": {
          "base_uri": "https://localhost:8080/"
        },
        "outputId": "1456ebc8-8f6e-43b3-b6c4-cb77df5b7ccf"
      },
      "source": [
        "classes"
      ],
      "execution_count": null,
      "outputs": [
        {
          "output_type": "execute_result",
          "data": {
            "text/plain": [
              "array([[0.12457524]], dtype=float32)"
            ]
          },
          "metadata": {},
          "execution_count": 14
        }
      ]
    },
    {
      "cell_type": "code",
      "source": [
        "print(train_generator.class_indices) "
      ],
      "metadata": {
        "id": "qLftS0l9TVbR",
        "colab": {
          "base_uri": "https://localhost:8080/"
        },
        "outputId": "31b55871-d6d1-45b9-fefb-2718e0a957c6"
      },
      "execution_count": null,
      "outputs": [
        {
          "output_type": "stream",
          "name": "stdout",
          "text": [
            "{'clean': 0, 'messy': 1}\n"
          ]
        }
      ]
    }
  ]
}